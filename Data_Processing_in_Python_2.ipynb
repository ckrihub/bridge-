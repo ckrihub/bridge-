{
  "nbformat": 4,
  "nbformat_minor": 0,
  "metadata": {
    "colab": {
      "provenance": [],
      "authorship_tag": "ABX9TyNa3FTT0OUC/pLXwnmwa5Bh",
      "include_colab_link": true
    },
    "kernelspec": {
      "name": "python3",
      "display_name": "Python 3"
    },
    "language_info": {
      "name": "python"
    }
  },
  "cells": [
    {
      "cell_type": "markdown",
      "metadata": {
        "id": "view-in-github",
        "colab_type": "text"
      },
      "source": [
        "<a href=\"https://colab.research.google.com/github/ckrihub/bridge-/blob/main/Data_Processing_in_Python_2.ipynb\" target=\"_parent\"><img src=\"https://colab.research.google.com/assets/colab-badge.svg\" alt=\"Open In Colab\"/></a>"
      ]
    },
    {
      "cell_type": "code",
      "execution_count": null,
      "metadata": {
        "id": "CxOW-xVrtYKD"
      },
      "outputs": [],
      "source": [
        "import numpy as np\n",
        "import matplotlib.pyplot as plt\n",
        "import cv2 as cv\n",
        "from google.colab.patches import cv2_imshow"
      ]
    },
    {
      "cell_type": "code",
      "source": [
        "test_data = np.arange(10,30, 2)"
      ],
      "metadata": {
        "id": "FpPChARytuNf"
      },
      "execution_count": null,
      "outputs": []
    },
    {
      "cell_type": "code",
      "source": [
        "test_data = np.linspace(1,10, 200) + np.random.rand(200)"
      ],
      "metadata": {
        "id": "sWYIu14auEn4"
      },
      "execution_count": null,
      "outputs": []
    },
    {
      "cell_type": "code",
      "source": [
        "test_data"
      ],
      "metadata": {
        "id": "PeRu48zJuoNl"
      },
      "execution_count": null,
      "outputs": []
    },
    {
      "cell_type": "code",
      "source": [
        "plt.plot(np.sin(test_data), color='green')\n",
        "plt.plot(np.cos(test_data), color='orange')\n",
        "plt.savefig('noisysineandcosine.jpg')"
      ],
      "metadata": {
        "id": "1eiED_Dbt6JP"
      },
      "execution_count": null,
      "outputs": []
    },
    {
      "cell_type": "code",
      "source": [
        "!wget https://upload.wikimedia.org/wikipedia/commons/thumb/b/b6/Queen_Elizabeth_II_in_March_2015.jpg/182px-Queen_Elizabeth_II_in_March_2015.jpg"
      ],
      "metadata": {
        "id": "uwcTL_qawz8I"
      },
      "execution_count": null,
      "outputs": []
    },
    {
      "cell_type": "code",
      "source": [
        "!mv 182* queen.jpg"
      ],
      "metadata": {
        "id": "LejkpLO7xCT-"
      },
      "execution_count": null,
      "outputs": []
    },
    {
      "cell_type": "code",
      "source": [
        "image_data = cv.imread('queen.jpg', 1)"
      ],
      "metadata": {
        "id": "3DCeehTGxQzo"
      },
      "execution_count": null,
      "outputs": []
    },
    {
      "cell_type": "code",
      "source": [
        "rows, cols, channels = image_data.shape"
      ],
      "metadata": {
        "id": "HsWrLUYCxdma"
      },
      "execution_count": null,
      "outputs": []
    },
    {
      "cell_type": "code",
      "source": [
        "print (rows, cols, channels)"
      ],
      "metadata": {
        "id": "ineDUolB01df"
      },
      "execution_count": null,
      "outputs": []
    },
    {
      "cell_type": "code",
      "source": [
        "print(image_data)"
      ],
      "metadata": {
        "id": "EGjwosvbx-hw"
      },
      "execution_count": null,
      "outputs": []
    },
    {
      "cell_type": "code",
      "source": [
        "two_horizontal_queens = np.hstack((image_data, image_data))"
      ],
      "metadata": {
        "id": "M28wvF1Uy0jx"
      },
      "execution_count": null,
      "outputs": []
    },
    {
      "cell_type": "code",
      "source": [
        "cv2_imshow(two_horizontal_queens)\n",
        "cv.imwrite('two-queens.jpg', two_horizontal_queens)"
      ],
      "metadata": {
        "id": "AejYCKUfzFHJ"
      },
      "execution_count": null,
      "outputs": []
    },
    {
      "cell_type": "code",
      "source": [
        "# slicing in Numerical Python\n",
        "slice_portion = two_horizontal_queens[0:rows, 0:cols, 0:channels]"
      ],
      "metadata": {
        "id": "ahFqgMVK0SBo"
      },
      "execution_count": null,
      "outputs": []
    },
    {
      "cell_type": "code",
      "source": [
        "slice_portion.shape"
      ],
      "metadata": {
        "id": "4gQX5MR_1P4X"
      },
      "execution_count": null,
      "outputs": []
    },
    {
      "cell_type": "code",
      "source": [
        "cv2_imshow(slice_portion)"
      ],
      "metadata": {
        "id": "voOvS-m91SON"
      },
      "execution_count": null,
      "outputs": []
    },
    {
      "cell_type": "code",
      "source": [
        "blurred_slice_portion = cv.blur(slice_portion, (5, 5))"
      ],
      "metadata": {
        "id": "T9azUiqi1bCs"
      },
      "execution_count": null,
      "outputs": []
    },
    {
      "cell_type": "code",
      "source": [],
      "metadata": {
        "id": "vSa4t85z24Ez"
      },
      "execution_count": null,
      "outputs": []
    },
    {
      "cell_type": "code",
      "source": [
        "cv2_imshow(blurred_slice_portion)"
      ],
      "metadata": {
        "id": "C8-VWkXF1nHn"
      },
      "execution_count": null,
      "outputs": []
    },
    {
      "cell_type": "code",
      "source": [
        "cv2_imshow(two_horizontal_queens)"
      ],
      "metadata": {
        "id": "7INaGi7_1v0F"
      },
      "execution_count": null,
      "outputs": []
    },
    {
      "cell_type": "code",
      "source": [
        "two_horizontal_queens[0:rows, 0:cols, 0:channels]  = blurred_slice_portion"
      ],
      "metadata": {
        "id": "8v-qtcSq10wg"
      },
      "execution_count": null,
      "outputs": []
    },
    {
      "cell_type": "code",
      "source": [
        "cv2_imshow(two_horizontal_queens)"
      ],
      "metadata": {
        "id": "HDMiP0ZL3ItQ"
      },
      "execution_count": null,
      "outputs": []
    },
    {
      "cell_type": "code",
      "source": [
        "cv2_imshow(two_horizontal_queens)"
      ],
      "metadata": {
        "id": "BjyJQq1F2GgS"
      },
      "execution_count": null,
      "outputs": []
    },
    {
      "cell_type": "code",
      "source": [],
      "metadata": {
        "id": "C1UcDhoI3IYC"
      },
      "execution_count": null,
      "outputs": []
    }
  ]
}